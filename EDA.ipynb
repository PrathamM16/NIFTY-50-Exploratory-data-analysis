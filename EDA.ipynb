{
 "cells": [
  {
   "cell_type": "code",
   "execution_count": 6,
   "metadata": {},
   "outputs": [
    {
     "data": {
      "text/html": [
       "<div>\n",
       "<style scoped>\n",
       "    .dataframe tbody tr th:only-of-type {\n",
       "        vertical-align: middle;\n",
       "    }\n",
       "\n",
       "    .dataframe tbody tr th {\n",
       "        vertical-align: top;\n",
       "    }\n",
       "\n",
       "    .dataframe thead th {\n",
       "        text-align: right;\n",
       "    }\n",
       "</style>\n",
       "<table border=\"1\" class=\"dataframe\">\n",
       "  <thead>\n",
       "    <tr style=\"text-align: right;\">\n",
       "      <th></th>\n",
       "      <th>Date</th>\n",
       "      <th>Open</th>\n",
       "      <th>High</th>\n",
       "      <th>Low</th>\n",
       "      <th>Close</th>\n",
       "      <th>Shares Traded</th>\n",
       "      <th>Turnover (₹ Cr)</th>\n",
       "    </tr>\n",
       "  </thead>\n",
       "  <tbody>\n",
       "    <tr>\n",
       "      <th>0</th>\n",
       "      <td>26-DEC-2023</td>\n",
       "      <td>21365.20</td>\n",
       "      <td>21477.15</td>\n",
       "      <td>21329.45</td>\n",
       "      <td>21441.35</td>\n",
       "      <td>219467748.0</td>\n",
       "      <td>20081.33</td>\n",
       "    </tr>\n",
       "    <tr>\n",
       "      <th>1</th>\n",
       "      <td>27-DEC-2023</td>\n",
       "      <td>21497.65</td>\n",
       "      <td>21675.75</td>\n",
       "      <td>21495.80</td>\n",
       "      <td>21654.75</td>\n",
       "      <td>256542963.0</td>\n",
       "      <td>23059.25</td>\n",
       "    </tr>\n",
       "    <tr>\n",
       "      <th>2</th>\n",
       "      <td>28-DEC-2023</td>\n",
       "      <td>21715.00</td>\n",
       "      <td>21801.45</td>\n",
       "      <td>21678.00</td>\n",
       "      <td>21778.70</td>\n",
       "      <td>393080755.0</td>\n",
       "      <td>35031.00</td>\n",
       "    </tr>\n",
       "    <tr>\n",
       "      <th>3</th>\n",
       "      <td>29-DEC-2023</td>\n",
       "      <td>21737.65</td>\n",
       "      <td>21770.30</td>\n",
       "      <td>21676.90</td>\n",
       "      <td>21731.40</td>\n",
       "      <td>270922276.0</td>\n",
       "      <td>23697.88</td>\n",
       "    </tr>\n",
       "    <tr>\n",
       "      <th>4</th>\n",
       "      <td>01-JAN-2024</td>\n",
       "      <td>21727.75</td>\n",
       "      <td>21834.35</td>\n",
       "      <td>21680.85</td>\n",
       "      <td>21741.90</td>\n",
       "      <td>153995217.0</td>\n",
       "      <td>14184.09</td>\n",
       "    </tr>\n",
       "  </tbody>\n",
       "</table>\n",
       "</div>"
      ],
      "text/plain": [
       "         Date      Open      High       Low     Close   Shares Traded   \\\n",
       "0  26-DEC-2023  21365.20  21477.15  21329.45  21441.35     219467748.0   \n",
       "1  27-DEC-2023  21497.65  21675.75  21495.80  21654.75     256542963.0   \n",
       "2  28-DEC-2023  21715.00  21801.45  21678.00  21778.70     393080755.0   \n",
       "3  29-DEC-2023  21737.65  21770.30  21676.90  21731.40     270922276.0   \n",
       "4  01-JAN-2024  21727.75  21834.35  21680.85  21741.90     153995217.0   \n",
       "\n",
       "   Turnover (₹ Cr)  \n",
       "0         20081.33  \n",
       "1         23059.25  \n",
       "2         35031.00  \n",
       "3         23697.88  \n",
       "4         14184.09  "
      ]
     },
     "execution_count": 6,
     "metadata": {},
     "output_type": "execute_result"
    }
   ],
   "source": [
    "import pandas as pd\n",
    "\n",
    "Nifty_data=\"E:/4TH_sem/AI_ML/STOCKS.csv\"\n",
    "\n",
    "#taking a as dataframe\n",
    "a=pd.read_csv(Nifty_data)\n",
    "a.head()\n"
   ]
  },
  {
   "cell_type": "code",
   "execution_count": 7,
   "metadata": {},
   "outputs": [
    {
     "data": {
      "text/html": [
       "<div>\n",
       "<style scoped>\n",
       "    .dataframe tbody tr th:only-of-type {\n",
       "        vertical-align: middle;\n",
       "    }\n",
       "\n",
       "    .dataframe tbody tr th {\n",
       "        vertical-align: top;\n",
       "    }\n",
       "\n",
       "    .dataframe thead th {\n",
       "        text-align: right;\n",
       "    }\n",
       "</style>\n",
       "<table border=\"1\" class=\"dataframe\">\n",
       "  <thead>\n",
       "    <tr style=\"text-align: right;\">\n",
       "      <th></th>\n",
       "      <th>Open</th>\n",
       "      <th>High</th>\n",
       "      <th>Low</th>\n",
       "      <th>Close</th>\n",
       "      <th>Shares Traded</th>\n",
       "      <th>Turnover (₹ Cr)</th>\n",
       "    </tr>\n",
       "  </thead>\n",
       "  <tbody>\n",
       "    <tr>\n",
       "      <th>count</th>\n",
       "      <td>124.000000</td>\n",
       "      <td>124.000000</td>\n",
       "      <td>124.000000</td>\n",
       "      <td>124.000000</td>\n",
       "      <td>1.230000e+02</td>\n",
       "      <td>123.000000</td>\n",
       "    </tr>\n",
       "    <tr>\n",
       "      <th>mean</th>\n",
       "      <td>22272.602419</td>\n",
       "      <td>22372.966935</td>\n",
       "      <td>22141.296371</td>\n",
       "      <td>22262.070968</td>\n",
       "      <td>3.336844e+08</td>\n",
       "      <td>32573.542358</td>\n",
       "    </tr>\n",
       "    <tr>\n",
       "      <th>std</th>\n",
       "      <td>557.911182</td>\n",
       "      <td>547.077688</td>\n",
       "      <td>558.735362</td>\n",
       "      <td>554.136642</td>\n",
       "      <td>1.180094e+08</td>\n",
       "      <td>11896.672621</td>\n",
       "    </tr>\n",
       "    <tr>\n",
       "      <th>min</th>\n",
       "      <td>21185.250000</td>\n",
       "      <td>21459.000000</td>\n",
       "      <td>21137.200000</td>\n",
       "      <td>21238.800000</td>\n",
       "      <td>1.906457e+07</td>\n",
       "      <td>1572.770000</td>\n",
       "    </tr>\n",
       "    <tr>\n",
       "      <th>25%</th>\n",
       "      <td>21839.225000</td>\n",
       "      <td>21953.237500</td>\n",
       "      <td>21713.912500</td>\n",
       "      <td>21839.812500</td>\n",
       "      <td>2.670421e+08</td>\n",
       "      <td>25503.345000</td>\n",
       "    </tr>\n",
       "    <tr>\n",
       "      <th>50%</th>\n",
       "      <td>22213.225000</td>\n",
       "      <td>22302.650000</td>\n",
       "      <td>22053.700000</td>\n",
       "      <td>22199.450000</td>\n",
       "      <td>3.172671e+08</td>\n",
       "      <td>30291.600000</td>\n",
       "    </tr>\n",
       "    <tr>\n",
       "      <th>75%</th>\n",
       "      <td>22567.912500</td>\n",
       "      <td>22635.562500</td>\n",
       "      <td>22427.637500</td>\n",
       "      <td>22515.837500</td>\n",
       "      <td>3.742559e+08</td>\n",
       "      <td>37609.590000</td>\n",
       "    </tr>\n",
       "    <tr>\n",
       "      <th>max</th>\n",
       "      <td>23661.150000</td>\n",
       "      <td>23754.150000</td>\n",
       "      <td>23562.050000</td>\n",
       "      <td>23721.300000</td>\n",
       "      <td>1.006105e+09</td>\n",
       "      <td>93786.440000</td>\n",
       "    </tr>\n",
       "  </tbody>\n",
       "</table>\n",
       "</div>"
      ],
      "text/plain": [
       "              Open          High           Low         Close   Shares Traded   \\\n",
       "count    124.000000    124.000000    124.000000    124.000000    1.230000e+02   \n",
       "mean   22272.602419  22372.966935  22141.296371  22262.070968    3.336844e+08   \n",
       "std      557.911182    547.077688    558.735362    554.136642    1.180094e+08   \n",
       "min    21185.250000  21459.000000  21137.200000  21238.800000    1.906457e+07   \n",
       "25%    21839.225000  21953.237500  21713.912500  21839.812500    2.670421e+08   \n",
       "50%    22213.225000  22302.650000  22053.700000  22199.450000    3.172671e+08   \n",
       "75%    22567.912500  22635.562500  22427.637500  22515.837500    3.742559e+08   \n",
       "max    23661.150000  23754.150000  23562.050000  23721.300000    1.006105e+09   \n",
       "\n",
       "       Turnover (₹ Cr)  \n",
       "count       123.000000  \n",
       "mean      32573.542358  \n",
       "std       11896.672621  \n",
       "min        1572.770000  \n",
       "25%       25503.345000  \n",
       "50%       30291.600000  \n",
       "75%       37609.590000  \n",
       "max       93786.440000  "
      ]
     },
     "execution_count": 7,
     "metadata": {},
     "output_type": "execute_result"
    }
   ],
   "source": [
    "a.describe()"
   ]
  },
  {
   "cell_type": "code",
   "execution_count": 8,
   "metadata": {},
   "outputs": [
    {
     "name": "stdout",
     "output_type": "stream",
     "text": [
      "<class 'pandas.core.frame.DataFrame'>\n",
      "RangeIndex: 124 entries, 0 to 123\n",
      "Data columns (total 7 columns):\n",
      " #   Column           Non-Null Count  Dtype  \n",
      "---  ------           --------------  -----  \n",
      " 0   Date             124 non-null    object \n",
      " 1   Open             124 non-null    float64\n",
      " 2   High             124 non-null    float64\n",
      " 3   Low              124 non-null    float64\n",
      " 4   Close            124 non-null    float64\n",
      " 5   Shares Traded    123 non-null    float64\n",
      " 6   Turnover (₹ Cr)  123 non-null    float64\n",
      "dtypes: float64(6), object(1)\n",
      "memory usage: 6.9+ KB\n"
     ]
    }
   ],
   "source": [
    "a.info()"
   ]
  },
  {
   "cell_type": "code",
   "execution_count": 9,
   "metadata": {},
   "outputs": [
    {
     "name": "stdout",
     "output_type": "stream",
     "text": [
      "Note: you may need to restart the kernel to use updated packages.\n"
     ]
    },
    {
     "name": "stderr",
     "output_type": "stream",
     "text": [
      "ERROR: Could not find a version that satisfies the requirement mathplotlib (from versions: none)\n",
      "ERROR: No matching distribution found for mathplotlib\n"
     ]
    }
   ],
   "source": [
    "pip install mathplotlib"
   ]
  },
  {
   "cell_type": "code",
   "execution_count": 10,
   "metadata": {},
   "outputs": [
    {
     "name": "stdout",
     "output_type": "stream",
     "text": [
      "Requirement already satisfied: pandas in c:\\users\\pratham.m\\appdata\\local\\programs\\python\\python312\\lib\\site-packages (2.2.1)\n",
      "Requirement already satisfied: matplotlib in c:\\users\\pratham.m\\appdata\\local\\programs\\python\\python312\\lib\\site-packages (3.8.4)\n",
      "Requirement already satisfied: seaborn in c:\\users\\pratham.m\\appdata\\local\\programs\\python\\python312\\lib\\site-packages (0.13.2)\n",
      "Requirement already satisfied: mplfinance in c:\\users\\pratham.m\\appdata\\local\\programs\\python\\python312\\lib\\site-packages (0.12.10b0)\n",
      "Requirement already satisfied: numpy<2,>=1.26.0 in c:\\users\\pratham.m\\appdata\\local\\programs\\python\\python312\\lib\\site-packages (from pandas) (1.26.3)\n",
      "Requirement already satisfied: python-dateutil>=2.8.2 in c:\\users\\pratham.m\\appdata\\local\\programs\\python\\python312\\lib\\site-packages (from pandas) (2.8.2)\n",
      "Requirement already satisfied: pytz>=2020.1 in c:\\users\\pratham.m\\appdata\\local\\programs\\python\\python312\\lib\\site-packages (from pandas) (2024.1)\n",
      "Requirement already satisfied: tzdata>=2022.7 in c:\\users\\pratham.m\\appdata\\local\\programs\\python\\python312\\lib\\site-packages (from pandas) (2023.3)\n",
      "Requirement already satisfied: contourpy>=1.0.1 in c:\\users\\pratham.m\\appdata\\local\\programs\\python\\python312\\lib\\site-packages (from matplotlib) (1.2.1)\n",
      "Requirement already satisfied: cycler>=0.10 in c:\\users\\pratham.m\\appdata\\local\\programs\\python\\python312\\lib\\site-packages (from matplotlib) (0.12.1)\n",
      "Requirement already satisfied: fonttools>=4.22.0 in c:\\users\\pratham.m\\appdata\\local\\programs\\python\\python312\\lib\\site-packages (from matplotlib) (4.51.0)\n",
      "Requirement already satisfied: kiwisolver>=1.3.1 in c:\\users\\pratham.m\\appdata\\local\\programs\\python\\python312\\lib\\site-packages (from matplotlib) (1.4.5)\n",
      "Requirement already satisfied: packaging>=20.0 in c:\\users\\pratham.m\\appdata\\local\\programs\\python\\python312\\lib\\site-packages (from matplotlib) (23.2)\n",
      "Requirement already satisfied: pillow>=8 in c:\\users\\pratham.m\\appdata\\local\\programs\\python\\python312\\lib\\site-packages (from matplotlib) (10.3.0)\n",
      "Requirement already satisfied: pyparsing>=2.3.1 in c:\\users\\pratham.m\\appdata\\local\\programs\\python\\python312\\lib\\site-packages (from matplotlib) (3.1.2)\n",
      "Requirement already satisfied: six>=1.5 in c:\\users\\pratham.m\\appdata\\local\\programs\\python\\python312\\lib\\site-packages (from python-dateutil>=2.8.2->pandas) (1.16.0)\n",
      "Note: you may need to restart the kernel to use updated packages.\n"
     ]
    }
   ],
   "source": [
    "pip install pandas matplotlib seaborn mplfinance\n"
   ]
  },
  {
   "cell_type": "code",
   "execution_count": 13,
   "metadata": {},
   "outputs": [
    {
     "name": "stdout",
     "output_type": "stream",
     "text": [
      "Index(['Date ', 'Open ', 'High ', 'Low ', 'Close ', 'Shares Traded ',\n",
      "       'Turnover (₹ Cr)'],\n",
      "      dtype='object')\n"
     ]
    }
   ],
   "source": [
    "print(a.columns)\n"
   ]
  },
  {
   "cell_type": "code",
   "execution_count": 14,
   "metadata": {},
   "outputs": [],
   "source": [
    "a.rename(columns={'Date ': 'Date', ' Turnover (₹ Cr)': 'Turnover'}, inplace=True)\n"
   ]
  },
  {
   "cell_type": "code",
   "execution_count": 15,
   "metadata": {},
   "outputs": [
    {
     "name": "stderr",
     "output_type": "stream",
     "text": [
      "C:\\Users\\Pratham.m\\AppData\\Local\\Temp\\ipykernel_18020\\1787886723.py:8: UserWarning: Could not infer format, so each element will be parsed individually, falling back to `dateutil`. To ensure parsing is consistent and as-expected, please specify a format.\n",
      "  a['Date']=pd.to_datetime(a['Date'])\n"
     ]
    }
   ],
   "source": [
    "import matplotlib.pyplot as plt\n",
    "import seaborn as sns\n",
    "import pandas as pd\n",
    "\n",
    "sns.set(style=\"whitegrid\")\n",
    "\n",
    "\n",
    "a['Date']=pd.to_datetime(a['Date'])\n",
    "a.set_index('Date',inplace=True)\n"
   ]
  },
  {
   "cell_type": "code",
   "execution_count": 20,
   "metadata": {},
   "outputs": [
    {
     "name": "stdout",
     "output_type": "stream",
     "text": [
      "Index(['Open ', 'High ', 'Low ', 'Close ', 'Shares Traded ',\n",
      "       'Turnover (₹ Cr)'],\n",
      "      dtype='object')\n",
      "               Open      High       Low     Close   Shares Traded   \\\n",
      "Date                                                                 \n",
      "2023-12-26  21365.20  21477.15  21329.45  21441.35     219467748.0   \n",
      "2023-12-27  21497.65  21675.75  21495.80  21654.75     256542963.0   \n",
      "2023-12-28  21715.00  21801.45  21678.00  21778.70     393080755.0   \n",
      "2023-12-29  21737.65  21770.30  21676.90  21731.40     270922276.0   \n",
      "2024-01-01  21727.75  21834.35  21680.85  21741.90     153995217.0   \n",
      "\n",
      "            Turnover (₹ Cr)  \n",
      "Date                         \n",
      "2023-12-26         20081.33  \n",
      "2023-12-27         23059.25  \n",
      "2023-12-28         35031.00  \n",
      "2023-12-29         23697.88  \n",
      "2024-01-01         14184.09  \n"
     ]
    }
   ],
   "source": [
    "# Check column names\n",
    "print(a.columns)\n",
    "\n",
    "# Display the first few rows\n",
    "print(a.head())\n"
   ]
  },
  {
   "cell_type": "code",
   "execution_count": 22,
   "metadata": {},
   "outputs": [
    {
     "name": "stderr",
     "output_type": "stream",
     "text": [
      "C:\\Users\\Pratham.m\\AppData\\Local\\Temp\\ipykernel_18020\\347481218.py:13: UserWarning: Could not infer format, so each element will be parsed individually, falling back to `dateutil`. To ensure parsing is consistent and as-expected, please specify a format.\n",
      "  a['Date'] = pd.to_datetime(a['Date'])\n"
     ]
    },
    {
     "data": {
      "image/png": "[encoded data removed]",
      "text/plain": [
       "<Figure size 1200x600 with 1 Axes>"
      ]
     },
     "metadata": {},
     "output_type": "display_data"
    },
    {
     "data": {
      "image/png": "[encoded data removed]",
      "text/plain": [
       "<Figure size 1000x600 with 1 Axes>"
      ]
     },
     "metadata": {},
     "output_type": "display_data"
    },
    {
     "data": {
      "image/png": "[encoded data removed]",
      "text/plain": [
       "<Figure size 1000x600 with 1 Axes>"
      ]
     },
     "metadata": {},
     "output_type": "display_data"
    },
    {
     "data": {
      "image/png": "[encoded data removed]",
      "text/plain": [
       "<Figure size 1200x600 with 1 Axes>"
      ]
     },
     "metadata": {},
     "output_type": "display_data"
    }
   ],
   "source": [
    "import pandas as pd\n",
    "import matplotlib.pyplot as plt\n",
    "import seaborn as sns\n",
    "\n",
    "# Read the CSV file\n",
    "Nifty_data = \"E:/4TH_sem/AI_ML/STOCKS.csv\"\n",
    "a = pd.read_csv(Nifty_data)\n",
    "\n",
    "# Clean column names by stripping any leading/trailing spaces\n",
    "a.columns = a.columns.str.strip()\n",
    "\n",
    "# Convert 'Date' column to datetime\n",
    "a['Date'] = pd.to_datetime(a['Date'])\n",
    "\n",
    "# Set 'Date' as the index\n",
    "a.set_index('Date', inplace=True)\n",
    "\n",
    "# Adding 'Month' column for monthly analysis\n",
    "a['Month'] = a.index.month\n",
    "\n",
    "# Setting style for the plots\n",
    "sns.set(style=\"whitegrid\")\n",
    "\n",
    "# 1. Line Plot: Stock Prices Over Time\n",
    "plt.figure(figsize=(12, 6))\n",
    "sns.lineplot(x=a.index, y=a['Close'], marker='o')\n",
    "plt.title('Trend of Closing Prices Over Time')\n",
    "plt.xlabel('Date')\n",
    "plt.ylabel('Closing Price (₹)')\n",
    "plt.show()\n",
    "\n",
    "# 2. Histogram: Distribution of Turnover\n",
    "plt.figure(figsize=(10, 6))\n",
    "sns.histplot(a['Turnover (₹ Cr)'], bins=30, kde=True)\n",
    "plt.title('Distribution of Turnover')\n",
    "plt.xlabel('Turnover (₹ Cr)')\n",
    "plt.ylabel('Frequency')\n",
    "plt.show()\n",
    "\n",
    "# 3. Scatter Plot: Opening vs. Closing Prices\n",
    "plt.figure(figsize=(10, 6))\n",
    "sns.scatterplot(x=a['Open'], y=a['Close'])\n",
    "plt.title('Opening Price vs. Closing Price')\n",
    "plt.xlabel('Opening Price (₹)')\n",
    "plt.ylabel('Closing Price (₹)')\n",
    "plt.show()\n",
    "\n",
    "# 4. Box Plot: Turnover by Month\n",
    "plt.figure(figsize=(12, 6))\n",
    "sns.boxplot(x='Month', y='Turnover (₹ Cr)', data=a)\n",
    "plt.title('Turnover by Month')\n",
    "plt.xlabel('Month')\n",
    "plt.ylabel('Turnover (₹ Cr)')\n",
    "plt.show()\n"
   ]
  },
  {
   "cell_type": "markdown",
   "metadata": {},
   "source": [
    "Understanding data\n",
    "\n",
    "2.1 Display number of samples (row) and number of attributes(columns) in your data set\n",
    "\n",
    "2.2 Display all columns names in your data set\n",
    "\n",
    "2.3 Display the structure of the data frame\n",
    "\n",
    "2.4 Display the statistical information about the dataset\n",
    "\n",
    "2.5 Display no of samples based on particular coloumn"
   ]
  },
  {
   "cell_type": "code",
   "execution_count": 26,
   "metadata": {},
   "outputs": [
    {
     "name": "stdout",
     "output_type": "stream",
     "text": [
      "Number of samples row 124\n",
      "Number of attributes columns 7\n"
     ]
    }
   ],
   "source": [
    "row=len(a)\n",
    "print(\"Number of samples row\",row)\n",
    "\n",
    "columns=len(a.columns)\n",
    "print(\"Number of attributes columns\",columns)"
   ]
  },
  {
   "cell_type": "code",
   "execution_count": 28,
   "metadata": {},
   "outputs": [
    {
     "name": "stdout",
     "output_type": "stream",
     "text": [
      "Open\n",
      "High\n",
      "Low\n",
      "Close\n",
      "Shares Traded\n",
      "Turnover (₹ Cr)\n",
      "Month\n"
     ]
    }
   ],
   "source": [
    "columns=a.columns.tolist()\n",
    "for column in columns:\n",
    "    print(column)"
   ]
  },
  {
   "cell_type": "code",
   "execution_count": 29,
   "metadata": {},
   "outputs": [
    {
     "name": "stdout",
     "output_type": "stream",
     "text": [
      "<class 'pandas.core.frame.DataFrame'>\n",
      "DatetimeIndex: 124 entries, 2023-12-26 to 2024-06-25\n",
      "Data columns (total 7 columns):\n",
      " #   Column           Non-Null Count  Dtype  \n",
      "---  ------           --------------  -----  \n",
      " 0   Open             124 non-null    float64\n",
      " 1   High             124 non-null    float64\n",
      " 2   Low              124 non-null    float64\n",
      " 3   Close            124 non-null    float64\n",
      " 4   Shares Traded    123 non-null    float64\n",
      " 5   Turnover (₹ Cr)  123 non-null    float64\n",
      " 6   Month            124 non-null    int32  \n",
      "dtypes: float64(6), int32(1)\n",
      "memory usage: 7.3 KB\n",
      "DataFrame Structure None\n"
     ]
    }
   ],
   "source": [
    "print(\"DataFrame Structure\",a.info())"
   ]
  },
  {
   "cell_type": "code",
   "execution_count": 30,
   "metadata": {},
   "outputs": [
    {
     "name": "stdout",
     "output_type": "stream",
     "text": [
      "Statistical information:\n",
      "               Open          High           Low         Close  Shares Traded  \\\n",
      "count    124.000000    124.000000    124.000000    124.000000   1.230000e+02   \n",
      "mean   22272.602419  22372.966935  22141.296371  22262.070968   3.336844e+08   \n",
      "std      557.911182    547.077688    558.735362    554.136642   1.180094e+08   \n",
      "min    21185.250000  21459.000000  21137.200000  21238.800000   1.906457e+07   \n",
      "25%    21839.225000  21953.237500  21713.912500  21839.812500   2.670421e+08   \n",
      "50%    22213.225000  22302.650000  22053.700000  22199.450000   3.172671e+08   \n",
      "75%    22567.912500  22635.562500  22427.637500  22515.837500   3.742559e+08   \n",
      "max    23661.150000  23754.150000  23562.050000  23721.300000   1.006105e+09   \n",
      "\n",
      "       Turnover (₹ Cr)       Month  \n",
      "count       123.000000  124.000000  \n",
      "mean      32573.542358    3.669355  \n",
      "std       11896.672621    2.262173  \n",
      "min        1572.770000    1.000000  \n",
      "25%       25503.345000    2.000000  \n",
      "50%       30291.600000    3.500000  \n",
      "75%       37609.590000    5.000000  \n",
      "max       93786.440000   12.000000  \n"
     ]
    }
   ],
   "source": [
    "# Display statistical information about the dataset\n",
    "print(\"Statistical information:\")\n",
    "print(a.describe())\n"
   ]
  },
  {
   "cell_type": "code",
   "execution_count": 31,
   "metadata": {},
   "outputs": [
    {
     "name": "stdout",
     "output_type": "stream",
     "text": [
      "Number of samples based on Month:\n",
      "Month\n",
      "1     22\n",
      "5     22\n",
      "2     21\n",
      "4     20\n",
      "3     19\n",
      "6     16\n",
      "12     4\n",
      "Name: count, dtype: int64\n"
     ]
    }
   ],
   "source": [
    "# Display number of samples based on a particular column\n",
    "samples_per_month = a['Month'].value_counts()\n",
    "print(\"Number of samples based on Month:\")\n",
    "print(samples_per_month)\n"
   ]
  },
  {
   "cell_type": "markdown",
   "metadata": {},
   "source": [
    "Extracting independent variables and dependent variables in your dataset and interpret\n",
    "the difference between independent and dependent variables."
   ]
  },
  {
   "cell_type": "code",
   "execution_count": 32,
   "metadata": {},
   "outputs": [
    {
     "name": "stdout",
     "output_type": "stream",
     "text": [
      "Independent Variables:\n",
      "                Open      High       Low  Shares Traded  Turnover (₹ Cr)\n",
      "Date                                                                    \n",
      "2023-12-26  21365.20  21477.15  21329.45    219467748.0         20081.33\n",
      "2023-12-27  21497.65  21675.75  21495.80    256542963.0         23059.25\n",
      "2023-12-28  21715.00  21801.45  21678.00    393080755.0         35031.00\n",
      "2023-12-29  21737.65  21770.30  21676.90    270922276.0         23697.88\n",
      "2024-01-01  21727.75  21834.35  21680.85    153995217.0         14184.09\n",
      "Shape: (124, 5)\n",
      "\n",
      "Dependent Variable:\n",
      "Date\n",
      "2023-12-26    21441.35\n",
      "2023-12-27    21654.75\n",
      "2023-12-28    21778.70\n",
      "2023-12-29    21731.40\n",
      "2024-01-01    21741.90\n",
      "Name: Close, dtype: float64\n",
      "Shape: (124,)\n"
     ]
    }
   ],
   "source": [
    "# Assuming 'a' is your DataFrame with cleaned data\n",
    "# Independent variables\n",
    "independent_vars = a[['Open', 'High', 'Low', 'Shares Traded', 'Turnover (₹ Cr)']]\n",
    "\n",
    "# Dependent variable (assuming 'Close' is the dependent variable)\n",
    "dependent_var = a['Close']\n",
    "\n",
    "# Print shape and first few rows for verification\n",
    "print(\"Independent Variables:\")\n",
    "print(independent_vars.head())\n",
    "print(f\"Shape: {independent_vars.shape}\\n\")\n",
    "\n",
    "print(\"Dependent Variable:\")\n",
    "print(dependent_var.head())\n",
    "print(f\"Shape: {dependent_var.shape}\")\n"
   ]
  },
  {
   "cell_type": "markdown",
   "metadata": {},
   "source": [
    "Find unique values from a column in a Data frame &amp; count the unique values from a\n",
    "column in a Data frame."
   ]
  },
  {
   "cell_type": "code",
   "execution_count": 34,
   "metadata": {},
   "outputs": [
    {
     "name": "stdout",
     "output_type": "stream",
     "text": [
      "Unique values in the 'Month' column:\n",
      "[12  1  2  3  4  5  6]\n"
     ]
    }
   ],
   "source": [
    "\n",
    "unique_values = a['Month'].unique()\n",
    "\n",
    "print(\"Unique values in the 'Month' column:\")\n",
    "print(unique_values)\n"
   ]
  },
  {
   "cell_type": "code",
   "execution_count": 35,
   "metadata": {},
   "outputs": [
    {
     "name": "stdout",
     "output_type": "stream",
     "text": [
      "Count of unique values in the 'Month' column:\n",
      "Month\n",
      "1     22\n",
      "5     22\n",
      "2     21\n",
      "4     20\n",
      "3     19\n",
      "6     16\n",
      "12     4\n",
      "Name: count, dtype: int64\n"
     ]
    }
   ],
   "source": [
    "# Counting unique values in the 'Month' column\n",
    "value_counts = a['Month'].value_counts()\n",
    "\n",
    "print(\"Count of unique values in the 'Month' column:\")\n",
    "print(value_counts)\n"
   ]
  },
  {
   "cell_type": "markdown",
   "metadata": {},
   "source": [
    "Find the missing values and non-missing values in your dataset."
   ]
  },
  {
   "cell_type": "code",
   "execution_count": 36,
   "metadata": {},
   "outputs": [
    {
     "name": "stdout",
     "output_type": "stream",
     "text": [
      "Missing values in the dataset:\n",
      "Open               0\n",
      "High               0\n",
      "Low                0\n",
      "Close              0\n",
      "Shares Traded      1\n",
      "Turnover (₹ Cr)    1\n",
      "Month              0\n",
      "dtype: int64\n"
     ]
    }
   ],
   "source": [
    "# Check for missing values in the entire DataFrame\n",
    "missing_values = a.isnull().sum()\n",
    "\n",
    "print(\"Missing values in the dataset:\")\n",
    "print(missing_values)\n"
   ]
  },
  {
   "cell_type": "code",
   "execution_count": 37,
   "metadata": {},
   "outputs": [
    {
     "name": "stdout",
     "output_type": "stream",
     "text": [
      "\n",
      "Non-missing values in the dataset:\n",
      "Open               124\n",
      "High               124\n",
      "Low                124\n",
      "Close              124\n",
      "Shares Traded      123\n",
      "Turnover (₹ Cr)    123\n",
      "Month              124\n",
      "dtype: int64\n"
     ]
    }
   ],
   "source": [
    "# Check for non-missing values in the entire DataFrame\n",
    "non_missing_values = a.notnull().sum()\n",
    "\n",
    "print(\"\\nNon-missing values in the dataset:\")\n",
    "print(non_missing_values)\n"
   ]
  },
  {
   "cell_type": "code",
   "execution_count": 38,
   "metadata": {},
   "outputs": [
    {
     "name": "stdout",
     "output_type": "stream",
     "text": [
      "DataFrame after dropping rows with any NaN values:\n",
      "                Open      High       Low     Close  Shares Traded  \\\n",
      "Date                                                                \n",
      "2023-12-26  21365.20  21477.15  21329.45  21441.35    219467748.0   \n",
      "2023-12-27  21497.65  21675.75  21495.80  21654.75    256542963.0   \n",
      "2023-12-28  21715.00  21801.45  21678.00  21778.70    393080755.0   \n",
      "2023-12-29  21737.65  21770.30  21676.90  21731.40    270922276.0   \n",
      "2024-01-01  21727.75  21834.35  21680.85  21741.90    153995217.0   \n",
      "...              ...       ...       ...       ...            ...   \n",
      "2024-06-19  23629.85  23664.00  23412.90  23516.00    328811255.0   \n",
      "2024-06-20  23586.15  23624.00  23442.60  23567.00    280336970.0   \n",
      "2024-06-21  23661.15  23667.10  23398.20  23501.10    609877803.0   \n",
      "2024-06-24  23382.30  23558.10  23350.00  23537.85    239358460.0   \n",
      "2024-06-25  23577.10  23754.15  23562.05  23721.30    298111025.0   \n",
      "\n",
      "            Turnover (₹ Cr)  Month  \n",
      "Date                                \n",
      "2023-12-26         20081.33     12  \n",
      "2023-12-27         23059.25     12  \n",
      "2023-12-28         35031.00     12  \n",
      "2023-12-29         23697.88     12  \n",
      "2024-01-01         14184.09      1  \n",
      "...                     ...    ...  \n",
      "2024-06-19         39430.39      6  \n",
      "2024-06-20         33390.07      6  \n",
      "2024-06-21         70062.97      6  \n",
      "2024-06-24         24862.37      6  \n",
      "2024-06-25         34263.36      6  \n",
      "\n",
      "[123 rows x 7 columns]\n"
     ]
    }
   ],
   "source": [
    "# Drop rows with any NaN values\n",
    "a_dropna = a.dropna()\n",
    "\n",
    "# Print the cleaned DataFrame\n",
    "print(\"DataFrame after dropping rows with any NaN values:\")\n",
    "print(a_dropna)\n"
   ]
  },
  {
   "cell_type": "code",
   "execution_count": 39,
   "metadata": {},
   "outputs": [
    {
     "name": "stdout",
     "output_type": "stream",
     "text": [
      "DataFrame after replacing NaN with mean:\n",
      "                Open      High       Low     Close  Shares Traded  \\\n",
      "Date                                                                \n",
      "2023-12-26  21365.20  21477.15  21329.45  21441.35    219467748.0   \n",
      "2023-12-27  21497.65  21675.75  21495.80  21654.75    256542963.0   \n",
      "2023-12-28  21715.00  21801.45  21678.00  21778.70    393080755.0   \n",
      "2023-12-29  21737.65  21770.30  21676.90  21731.40    270922276.0   \n",
      "2024-01-01  21727.75  21834.35  21680.85  21741.90    153995217.0   \n",
      "...              ...       ...       ...       ...            ...   \n",
      "2024-06-19  23629.85  23664.00  23412.90  23516.00    328811255.0   \n",
      "2024-06-20  23586.15  23624.00  23442.60  23567.00    280336970.0   \n",
      "2024-06-21  23661.15  23667.10  23398.20  23501.10    609877803.0   \n",
      "2024-06-24  23382.30  23558.10  23350.00  23537.85    239358460.0   \n",
      "2024-06-25  23577.10  23754.15  23562.05  23721.30    298111025.0   \n",
      "\n",
      "            Turnover (₹ Cr)  Month  \n",
      "Date                                \n",
      "2023-12-26         20081.33     12  \n",
      "2023-12-27         23059.25     12  \n",
      "2023-12-28         35031.00     12  \n",
      "2023-12-29         23697.88     12  \n",
      "2024-01-01         14184.09      1  \n",
      "...                     ...    ...  \n",
      "2024-06-19         39430.39      6  \n",
      "2024-06-20         33390.07      6  \n",
      "2024-06-21         70062.97      6  \n",
      "2024-06-24         24862.37      6  \n",
      "2024-06-25         34263.36      6  \n",
      "\n",
      "[124 rows x 7 columns]\n"
     ]
    }
   ],
   "source": [
    "# Replace NaN values with mean of the column\n",
    "a_filled_mean = a.fillna(a.mean())\n",
    "\n",
    "# Print the DataFrame with NaN replaced\n",
    "print(\"DataFrame after replacing NaN with mean:\")\n",
    "print(a_filled_mean)\n"
   ]
  },
  {
   "cell_type": "code",
   "execution_count": 47,
   "metadata": {},
   "outputs": [
    {
     "name": "stdout",
     "output_type": "stream",
     "text": [
      "Missing values in the dataset after replacing NaN with mean:\n",
      "Open               0\n",
      "High               0\n",
      "Low                0\n",
      "Close              0\n",
      "Shares Traded      0\n",
      "Turnover (₹ Cr)    0\n",
      "Month              0\n",
      "dtype: int64\n"
     ]
    }
   ],
   "source": [
    "# Check for missing values in the entire DataFrame after replacing NaN with mean\n",
    "missing_values_after_fillna = a_filled_mean.isnull().sum()\n",
    "\n",
    "print(\"Missing values in the dataset after replacing NaN with mean:\")\n",
    "print(missing_values_after_fillna)\n"
   ]
  },
  {
   "cell_type": "code",
   "execution_count": 41,
   "metadata": {},
   "outputs": [
    {
     "data": {
      "text/html": [
       "<div>\n",
       "<style scoped>\n",
       "    .dataframe tbody tr th:only-of-type {\n",
       "        vertical-align: middle;\n",
       "    }\n",
       "\n",
       "    .dataframe tbody tr th {\n",
       "        vertical-align: top;\n",
       "    }\n",
       "\n",
       "    .dataframe thead th {\n",
       "        text-align: right;\n",
       "    }\n",
       "</style>\n",
       "<table border=\"1\" class=\"dataframe\">\n",
       "  <thead>\n",
       "    <tr style=\"text-align: right;\">\n",
       "      <th></th>\n",
       "      <th>Open</th>\n",
       "      <th>High</th>\n",
       "      <th>Low</th>\n",
       "      <th>Close</th>\n",
       "      <th>Shares Traded</th>\n",
       "      <th>Turnover (₹ Cr)</th>\n",
       "      <th>Month</th>\n",
       "    </tr>\n",
       "    <tr>\n",
       "      <th>Date</th>\n",
       "      <th></th>\n",
       "      <th></th>\n",
       "      <th></th>\n",
       "      <th></th>\n",
       "      <th></th>\n",
       "      <th></th>\n",
       "      <th></th>\n",
       "    </tr>\n",
       "  </thead>\n",
       "  <tbody>\n",
       "    <tr>\n",
       "      <th>2023-12-26</th>\n",
       "      <td>21365.20</td>\n",
       "      <td>21477.15</td>\n",
       "      <td>21329.45</td>\n",
       "      <td>21441.35</td>\n",
       "      <td>219467748.0</td>\n",
       "      <td>20081.33</td>\n",
       "      <td>12</td>\n",
       "    </tr>\n",
       "    <tr>\n",
       "      <th>2023-12-27</th>\n",
       "      <td>21497.65</td>\n",
       "      <td>21675.75</td>\n",
       "      <td>21495.80</td>\n",
       "      <td>21654.75</td>\n",
       "      <td>256542963.0</td>\n",
       "      <td>23059.25</td>\n",
       "      <td>12</td>\n",
       "    </tr>\n",
       "    <tr>\n",
       "      <th>2023-12-28</th>\n",
       "      <td>21715.00</td>\n",
       "      <td>21801.45</td>\n",
       "      <td>21678.00</td>\n",
       "      <td>21778.70</td>\n",
       "      <td>393080755.0</td>\n",
       "      <td>35031.00</td>\n",
       "      <td>12</td>\n",
       "    </tr>\n",
       "    <tr>\n",
       "      <th>2023-12-29</th>\n",
       "      <td>21737.65</td>\n",
       "      <td>21770.30</td>\n",
       "      <td>21676.90</td>\n",
       "      <td>21731.40</td>\n",
       "      <td>270922276.0</td>\n",
       "      <td>23697.88</td>\n",
       "      <td>12</td>\n",
       "    </tr>\n",
       "    <tr>\n",
       "      <th>2024-01-01</th>\n",
       "      <td>21727.75</td>\n",
       "      <td>21834.35</td>\n",
       "      <td>21680.85</td>\n",
       "      <td>21741.90</td>\n",
       "      <td>153995217.0</td>\n",
       "      <td>14184.09</td>\n",
       "      <td>1</td>\n",
       "    </tr>\n",
       "    <tr>\n",
       "      <th>...</th>\n",
       "      <td>...</td>\n",
       "      <td>...</td>\n",
       "      <td>...</td>\n",
       "      <td>...</td>\n",
       "      <td>...</td>\n",
       "      <td>...</td>\n",
       "      <td>...</td>\n",
       "    </tr>\n",
       "    <tr>\n",
       "      <th>2024-06-19</th>\n",
       "      <td>23629.85</td>\n",
       "      <td>23664.00</td>\n",
       "      <td>23412.90</td>\n",
       "      <td>23516.00</td>\n",
       "      <td>328811255.0</td>\n",
       "      <td>39430.39</td>\n",
       "      <td>6</td>\n",
       "    </tr>\n",
       "    <tr>\n",
       "      <th>2024-06-20</th>\n",
       "      <td>23586.15</td>\n",
       "      <td>23624.00</td>\n",
       "      <td>23442.60</td>\n",
       "      <td>23567.00</td>\n",
       "      <td>280336970.0</td>\n",
       "      <td>33390.07</td>\n",
       "      <td>6</td>\n",
       "    </tr>\n",
       "    <tr>\n",
       "      <th>2024-06-21</th>\n",
       "      <td>23661.15</td>\n",
       "      <td>23667.10</td>\n",
       "      <td>23398.20</td>\n",
       "      <td>23501.10</td>\n",
       "      <td>609877803.0</td>\n",
       "      <td>70062.97</td>\n",
       "      <td>6</td>\n",
       "    </tr>\n",
       "    <tr>\n",
       "      <th>2024-06-24</th>\n",
       "      <td>23382.30</td>\n",
       "      <td>23558.10</td>\n",
       "      <td>23350.00</td>\n",
       "      <td>23537.85</td>\n",
       "      <td>239358460.0</td>\n",
       "      <td>24862.37</td>\n",
       "      <td>6</td>\n",
       "    </tr>\n",
       "    <tr>\n",
       "      <th>2024-06-25</th>\n",
       "      <td>23577.10</td>\n",
       "      <td>23754.15</td>\n",
       "      <td>23562.05</td>\n",
       "      <td>23721.30</td>\n",
       "      <td>298111025.0</td>\n",
       "      <td>34263.36</td>\n",
       "      <td>6</td>\n",
       "    </tr>\n",
       "  </tbody>\n",
       "</table>\n",
       "<p>124 rows × 7 columns</p>\n",
       "</div>"
      ],
      "text/plain": [
       "                Open      High       Low     Close  Shares Traded  \\\n",
       "Date                                                                \n",
       "2023-12-26  21365.20  21477.15  21329.45  21441.35    219467748.0   \n",
       "2023-12-27  21497.65  21675.75  21495.80  21654.75    256542963.0   \n",
       "2023-12-28  21715.00  21801.45  21678.00  21778.70    393080755.0   \n",
       "2023-12-29  21737.65  21770.30  21676.90  21731.40    270922276.0   \n",
       "2024-01-01  21727.75  21834.35  21680.85  21741.90    153995217.0   \n",
       "...              ...       ...       ...       ...            ...   \n",
       "2024-06-19  23629.85  23664.00  23412.90  23516.00    328811255.0   \n",
       "2024-06-20  23586.15  23624.00  23442.60  23567.00    280336970.0   \n",
       "2024-06-21  23661.15  23667.10  23398.20  23501.10    609877803.0   \n",
       "2024-06-24  23382.30  23558.10  23350.00  23537.85    239358460.0   \n",
       "2024-06-25  23577.10  23754.15  23562.05  23721.30    298111025.0   \n",
       "\n",
       "            Turnover (₹ Cr)  Month  \n",
       "Date                                \n",
       "2023-12-26         20081.33     12  \n",
       "2023-12-27         23059.25     12  \n",
       "2023-12-28         35031.00     12  \n",
       "2023-12-29         23697.88     12  \n",
       "2024-01-01         14184.09      1  \n",
       "...                     ...    ...  \n",
       "2024-06-19         39430.39      6  \n",
       "2024-06-20         33390.07      6  \n",
       "2024-06-21         70062.97      6  \n",
       "2024-06-24         24862.37      6  \n",
       "2024-06-25         34263.36      6  \n",
       "\n",
       "[124 rows x 7 columns]"
      ]
     },
     "execution_count": 41,
     "metadata": {},
     "output_type": "execute_result"
    }
   ],
   "source": [
    "# Consider first value as unique and rest as duplicates\n",
    "a_unique_first = a.drop_duplicates(keep='first')\n",
    "a_unique_first\n"
   ]
  },
  {
   "cell_type": "code",
   "execution_count": 42,
   "metadata": {},
   "outputs": [
    {
     "data": {
      "text/html": [
       "<div>\n",
       "<style scoped>\n",
       "    .dataframe tbody tr th:only-of-type {\n",
       "        vertical-align: middle;\n",
       "    }\n",
       "\n",
       "    .dataframe tbody tr th {\n",
       "        vertical-align: top;\n",
       "    }\n",
       "\n",
       "    .dataframe thead th {\n",
       "        text-align: right;\n",
       "    }\n",
       "</style>\n",
       "<table border=\"1\" class=\"dataframe\">\n",
       "  <thead>\n",
       "    <tr style=\"text-align: right;\">\n",
       "      <th></th>\n",
       "      <th>Open</th>\n",
       "      <th>High</th>\n",
       "      <th>Low</th>\n",
       "      <th>Close</th>\n",
       "      <th>Shares Traded</th>\n",
       "      <th>Turnover (₹ Cr)</th>\n",
       "      <th>Month</th>\n",
       "    </tr>\n",
       "    <tr>\n",
       "      <th>Date</th>\n",
       "      <th></th>\n",
       "      <th></th>\n",
       "      <th></th>\n",
       "      <th></th>\n",
       "      <th></th>\n",
       "      <th></th>\n",
       "      <th></th>\n",
       "    </tr>\n",
       "  </thead>\n",
       "  <tbody>\n",
       "    <tr>\n",
       "      <th>2023-12-26</th>\n",
       "      <td>21365.20</td>\n",
       "      <td>21477.15</td>\n",
       "      <td>21329.45</td>\n",
       "      <td>21441.35</td>\n",
       "      <td>219467748.0</td>\n",
       "      <td>20081.33</td>\n",
       "      <td>12</td>\n",
       "    </tr>\n",
       "    <tr>\n",
       "      <th>2023-12-27</th>\n",
       "      <td>21497.65</td>\n",
       "      <td>21675.75</td>\n",
       "      <td>21495.80</td>\n",
       "      <td>21654.75</td>\n",
       "      <td>256542963.0</td>\n",
       "      <td>23059.25</td>\n",
       "      <td>12</td>\n",
       "    </tr>\n",
       "    <tr>\n",
       "      <th>2023-12-28</th>\n",
       "      <td>21715.00</td>\n",
       "      <td>21801.45</td>\n",
       "      <td>21678.00</td>\n",
       "      <td>21778.70</td>\n",
       "      <td>393080755.0</td>\n",
       "      <td>35031.00</td>\n",
       "      <td>12</td>\n",
       "    </tr>\n",
       "    <tr>\n",
       "      <th>2023-12-29</th>\n",
       "      <td>21737.65</td>\n",
       "      <td>21770.30</td>\n",
       "      <td>21676.90</td>\n",
       "      <td>21731.40</td>\n",
       "      <td>270922276.0</td>\n",
       "      <td>23697.88</td>\n",
       "      <td>12</td>\n",
       "    </tr>\n",
       "    <tr>\n",
       "      <th>2024-01-01</th>\n",
       "      <td>21727.75</td>\n",
       "      <td>21834.35</td>\n",
       "      <td>21680.85</td>\n",
       "      <td>21741.90</td>\n",
       "      <td>153995217.0</td>\n",
       "      <td>14184.09</td>\n",
       "      <td>1</td>\n",
       "    </tr>\n",
       "    <tr>\n",
       "      <th>...</th>\n",
       "      <td>...</td>\n",
       "      <td>...</td>\n",
       "      <td>...</td>\n",
       "      <td>...</td>\n",
       "      <td>...</td>\n",
       "      <td>...</td>\n",
       "      <td>...</td>\n",
       "    </tr>\n",
       "    <tr>\n",
       "      <th>2024-06-19</th>\n",
       "      <td>23629.85</td>\n",
       "      <td>23664.00</td>\n",
       "      <td>23412.90</td>\n",
       "      <td>23516.00</td>\n",
       "      <td>328811255.0</td>\n",
       "      <td>39430.39</td>\n",
       "      <td>6</td>\n",
       "    </tr>\n",
       "    <tr>\n",
       "      <th>2024-06-20</th>\n",
       "      <td>23586.15</td>\n",
       "      <td>23624.00</td>\n",
       "      <td>23442.60</td>\n",
       "      <td>23567.00</td>\n",
       "      <td>280336970.0</td>\n",
       "      <td>33390.07</td>\n",
       "      <td>6</td>\n",
       "    </tr>\n",
       "    <tr>\n",
       "      <th>2024-06-21</th>\n",
       "      <td>23661.15</td>\n",
       "      <td>23667.10</td>\n",
       "      <td>23398.20</td>\n",
       "      <td>23501.10</td>\n",
       "      <td>609877803.0</td>\n",
       "      <td>70062.97</td>\n",
       "      <td>6</td>\n",
       "    </tr>\n",
       "    <tr>\n",
       "      <th>2024-06-24</th>\n",
       "      <td>23382.30</td>\n",
       "      <td>23558.10</td>\n",
       "      <td>23350.00</td>\n",
       "      <td>23537.85</td>\n",
       "      <td>239358460.0</td>\n",
       "      <td>24862.37</td>\n",
       "      <td>6</td>\n",
       "    </tr>\n",
       "    <tr>\n",
       "      <th>2024-06-25</th>\n",
       "      <td>23577.10</td>\n",
       "      <td>23754.15</td>\n",
       "      <td>23562.05</td>\n",
       "      <td>23721.30</td>\n",
       "      <td>298111025.0</td>\n",
       "      <td>34263.36</td>\n",
       "      <td>6</td>\n",
       "    </tr>\n",
       "  </tbody>\n",
       "</table>\n",
       "<p>124 rows × 7 columns</p>\n",
       "</div>"
      ],
      "text/plain": [
       "                Open      High       Low     Close  Shares Traded  \\\n",
       "Date                                                                \n",
       "2023-12-26  21365.20  21477.15  21329.45  21441.35    219467748.0   \n",
       "2023-12-27  21497.65  21675.75  21495.80  21654.75    256542963.0   \n",
       "2023-12-28  21715.00  21801.45  21678.00  21778.70    393080755.0   \n",
       "2023-12-29  21737.65  21770.30  21676.90  21731.40    270922276.0   \n",
       "2024-01-01  21727.75  21834.35  21680.85  21741.90    153995217.0   \n",
       "...              ...       ...       ...       ...            ...   \n",
       "2024-06-19  23629.85  23664.00  23412.90  23516.00    328811255.0   \n",
       "2024-06-20  23586.15  23624.00  23442.60  23567.00    280336970.0   \n",
       "2024-06-21  23661.15  23667.10  23398.20  23501.10    609877803.0   \n",
       "2024-06-24  23382.30  23558.10  23350.00  23537.85    239358460.0   \n",
       "2024-06-25  23577.10  23754.15  23562.05  23721.30    298111025.0   \n",
       "\n",
       "            Turnover (₹ Cr)  Month  \n",
       "Date                                \n",
       "2023-12-26         20081.33     12  \n",
       "2023-12-27         23059.25     12  \n",
       "2023-12-28         35031.00     12  \n",
       "2023-12-29         23697.88     12  \n",
       "2024-01-01         14184.09      1  \n",
       "...                     ...    ...  \n",
       "2024-06-19         39430.39      6  \n",
       "2024-06-20         33390.07      6  \n",
       "2024-06-21         70062.97      6  \n",
       "2024-06-24         24862.37      6  \n",
       "2024-06-25         34263.36      6  \n",
       "\n",
       "[124 rows x 7 columns]"
      ]
     },
     "execution_count": 42,
     "metadata": {},
     "output_type": "execute_result"
    }
   ],
   "source": [
    "# Consider last value as unique and rest as duplicates\n",
    "a_unique_last = a.drop_duplicates(keep='last')\n",
    "a_unique_last"
   ]
  },
  {
   "cell_type": "code",
   "execution_count": 43,
   "metadata": {},
   "outputs": [
    {
     "data": {
      "text/html": [
       "<div>\n",
       "<style scoped>\n",
       "    .dataframe tbody tr th:only-of-type {\n",
       "        vertical-align: middle;\n",
       "    }\n",
       "\n",
       "    .dataframe tbody tr th {\n",
       "        vertical-align: top;\n",
       "    }\n",
       "\n",
       "    .dataframe thead th {\n",
       "        text-align: right;\n",
       "    }\n",
       "</style>\n",
       "<table border=\"1\" class=\"dataframe\">\n",
       "  <thead>\n",
       "    <tr style=\"text-align: right;\">\n",
       "      <th></th>\n",
       "      <th>Open</th>\n",
       "      <th>High</th>\n",
       "      <th>Low</th>\n",
       "      <th>Close</th>\n",
       "      <th>Shares Traded</th>\n",
       "      <th>Turnover (₹ Cr)</th>\n",
       "      <th>Month</th>\n",
       "    </tr>\n",
       "    <tr>\n",
       "      <th>Date</th>\n",
       "      <th></th>\n",
       "      <th></th>\n",
       "      <th></th>\n",
       "      <th></th>\n",
       "      <th></th>\n",
       "      <th></th>\n",
       "      <th></th>\n",
       "    </tr>\n",
       "  </thead>\n",
       "  <tbody>\n",
       "    <tr>\n",
       "      <th>2023-12-26</th>\n",
       "      <td>21365.20</td>\n",
       "      <td>21477.15</td>\n",
       "      <td>21329.45</td>\n",
       "      <td>21441.35</td>\n",
       "      <td>219467748.0</td>\n",
       "      <td>20081.33</td>\n",
       "      <td>12</td>\n",
       "    </tr>\n",
       "    <tr>\n",
       "      <th>2023-12-27</th>\n",
       "      <td>21497.65</td>\n",
       "      <td>21675.75</td>\n",
       "      <td>21495.80</td>\n",
       "      <td>21654.75</td>\n",
       "      <td>256542963.0</td>\n",
       "      <td>23059.25</td>\n",
       "      <td>12</td>\n",
       "    </tr>\n",
       "    <tr>\n",
       "      <th>2023-12-28</th>\n",
       "      <td>21715.00</td>\n",
       "      <td>21801.45</td>\n",
       "      <td>21678.00</td>\n",
       "      <td>21778.70</td>\n",
       "      <td>393080755.0</td>\n",
       "      <td>35031.00</td>\n",
       "      <td>12</td>\n",
       "    </tr>\n",
       "    <tr>\n",
       "      <th>2023-12-29</th>\n",
       "      <td>21737.65</td>\n",
       "      <td>21770.30</td>\n",
       "      <td>21676.90</td>\n",
       "      <td>21731.40</td>\n",
       "      <td>270922276.0</td>\n",
       "      <td>23697.88</td>\n",
       "      <td>12</td>\n",
       "    </tr>\n",
       "    <tr>\n",
       "      <th>2024-01-01</th>\n",
       "      <td>21727.75</td>\n",
       "      <td>21834.35</td>\n",
       "      <td>21680.85</td>\n",
       "      <td>21741.90</td>\n",
       "      <td>153995217.0</td>\n",
       "      <td>14184.09</td>\n",
       "      <td>1</td>\n",
       "    </tr>\n",
       "    <tr>\n",
       "      <th>...</th>\n",
       "      <td>...</td>\n",
       "      <td>...</td>\n",
       "      <td>...</td>\n",
       "      <td>...</td>\n",
       "      <td>...</td>\n",
       "      <td>...</td>\n",
       "      <td>...</td>\n",
       "    </tr>\n",
       "    <tr>\n",
       "      <th>2024-06-19</th>\n",
       "      <td>23629.85</td>\n",
       "      <td>23664.00</td>\n",
       "      <td>23412.90</td>\n",
       "      <td>23516.00</td>\n",
       "      <td>328811255.0</td>\n",
       "      <td>39430.39</td>\n",
       "      <td>6</td>\n",
       "    </tr>\n",
       "    <tr>\n",
       "      <th>2024-06-20</th>\n",
       "      <td>23586.15</td>\n",
       "      <td>23624.00</td>\n",
       "      <td>23442.60</td>\n",
       "      <td>23567.00</td>\n",
       "      <td>280336970.0</td>\n",
       "      <td>33390.07</td>\n",
       "      <td>6</td>\n",
       "    </tr>\n",
       "    <tr>\n",
       "      <th>2024-06-21</th>\n",
       "      <td>23661.15</td>\n",
       "      <td>23667.10</td>\n",
       "      <td>23398.20</td>\n",
       "      <td>23501.10</td>\n",
       "      <td>609877803.0</td>\n",
       "      <td>70062.97</td>\n",
       "      <td>6</td>\n",
       "    </tr>\n",
       "    <tr>\n",
       "      <th>2024-06-24</th>\n",
       "      <td>23382.30</td>\n",
       "      <td>23558.10</td>\n",
       "      <td>23350.00</td>\n",
       "      <td>23537.85</td>\n",
       "      <td>239358460.0</td>\n",
       "      <td>24862.37</td>\n",
       "      <td>6</td>\n",
       "    </tr>\n",
       "    <tr>\n",
       "      <th>2024-06-25</th>\n",
       "      <td>23577.10</td>\n",
       "      <td>23754.15</td>\n",
       "      <td>23562.05</td>\n",
       "      <td>23721.30</td>\n",
       "      <td>298111025.0</td>\n",
       "      <td>34263.36</td>\n",
       "      <td>6</td>\n",
       "    </tr>\n",
       "  </tbody>\n",
       "</table>\n",
       "<p>124 rows × 7 columns</p>\n",
       "</div>"
      ],
      "text/plain": [
       "                Open      High       Low     Close  Shares Traded  \\\n",
       "Date                                                                \n",
       "2023-12-26  21365.20  21477.15  21329.45  21441.35    219467748.0   \n",
       "2023-12-27  21497.65  21675.75  21495.80  21654.75    256542963.0   \n",
       "2023-12-28  21715.00  21801.45  21678.00  21778.70    393080755.0   \n",
       "2023-12-29  21737.65  21770.30  21676.90  21731.40    270922276.0   \n",
       "2024-01-01  21727.75  21834.35  21680.85  21741.90    153995217.0   \n",
       "...              ...       ...       ...       ...            ...   \n",
       "2024-06-19  23629.85  23664.00  23412.90  23516.00    328811255.0   \n",
       "2024-06-20  23586.15  23624.00  23442.60  23567.00    280336970.0   \n",
       "2024-06-21  23661.15  23667.10  23398.20  23501.10    609877803.0   \n",
       "2024-06-24  23382.30  23558.10  23350.00  23537.85    239358460.0   \n",
       "2024-06-25  23577.10  23754.15  23562.05  23721.30    298111025.0   \n",
       "\n",
       "            Turnover (₹ Cr)  Month  \n",
       "Date                                \n",
       "2023-12-26         20081.33     12  \n",
       "2023-12-27         23059.25     12  \n",
       "2023-12-28         35031.00     12  \n",
       "2023-12-29         23697.88     12  \n",
       "2024-01-01         14184.09      1  \n",
       "...                     ...    ...  \n",
       "2024-06-19         39430.39      6  \n",
       "2024-06-20         33390.07      6  \n",
       "2024-06-21         70062.97      6  \n",
       "2024-06-24         24862.37      6  \n",
       "2024-06-25         34263.36      6  \n",
       "\n",
       "[124 rows x 7 columns]"
      ]
     },
     "execution_count": 43,
     "metadata": {},
     "output_type": "execute_result"
    }
   ],
   "source": [
    "# Consider all of the same values as duplicates\n",
    "a_unique_all = a.drop_duplicates(keep=False)\n",
    "a_unique_all"
   ]
  },
  {
   "cell_type": "code",
   "execution_count": 44,
   "metadata": {},
   "outputs": [
    {
     "name": "stdout",
     "output_type": "stream",
     "text": [
      "DataFrame after dropping columns with NaN values exceeding threshold:\n",
      "                Open      High       Low     Close  Shares Traded  \\\n",
      "Date                                                                \n",
      "2023-12-26  21365.20  21477.15  21329.45  21441.35    219467748.0   \n",
      "2023-12-27  21497.65  21675.75  21495.80  21654.75    256542963.0   \n",
      "2023-12-28  21715.00  21801.45  21678.00  21778.70    393080755.0   \n",
      "2023-12-29  21737.65  21770.30  21676.90  21731.40    270922276.0   \n",
      "2024-01-01  21727.75  21834.35  21680.85  21741.90    153995217.0   \n",
      "...              ...       ...       ...       ...            ...   \n",
      "2024-06-19  23629.85  23664.00  23412.90  23516.00    328811255.0   \n",
      "2024-06-20  23586.15  23624.00  23442.60  23567.00    280336970.0   \n",
      "2024-06-21  23661.15  23667.10  23398.20  23501.10    609877803.0   \n",
      "2024-06-24  23382.30  23558.10  23350.00  23537.85    239358460.0   \n",
      "2024-06-25  23577.10  23754.15  23562.05  23721.30    298111025.0   \n",
      "\n",
      "            Turnover (₹ Cr)  Month  \n",
      "Date                                \n",
      "2023-12-26         20081.33     12  \n",
      "2023-12-27         23059.25     12  \n",
      "2023-12-28         35031.00     12  \n",
      "2023-12-29         23697.88     12  \n",
      "2024-01-01         14184.09      1  \n",
      "...                     ...    ...  \n",
      "2024-06-19         39430.39      6  \n",
      "2024-06-20         33390.07      6  \n",
      "2024-06-21         70062.97      6  \n",
      "2024-06-24         24862.37      6  \n",
      "2024-06-25         34263.36      6  \n",
      "\n",
      "[124 rows x 7 columns]\n"
     ]
    }
   ],
   "source": [
    "# Drop columns with NaN values exceeding a threshold (e.g., 30%)\n",
    "threshold = len(a) * 0.3  # Adjust the threshold percentage as needed\n",
    "a_dropna_columns = a.dropna(thresh=threshold, axis=1)\n",
    "\n",
    "# Print the DataFrame after dropping columns with NaN values\n",
    "print(\"DataFrame after dropping columns with NaN values exceeding threshold:\")\n",
    "print(a_dropna_columns)\n"
   ]
  },
  {
   "cell_type": "markdown",
   "metadata": {},
   "source": [
    "Encode the Categorical data in your dataset using LabelEncoder"
   ]
  },
  {
   "cell_type": "code",
   "execution_count": 49,
   "metadata": {},
   "outputs": [
    {
     "name": "stdout",
     "output_type": "stream",
     "text": [
      "Index(['Date ', 'Open ', 'High ', 'Low ', 'Close ', 'Shares Traded ',\n",
      "       'Turnover (₹ Cr)'],\n",
      "      dtype='object')\n"
     ]
    }
   ],
   "source": [
    "import pandas as pd\n",
    "\n",
    "Nifty_data = \"E:/4TH_sem/AI_ML/STOCKS.csv\"\n",
    "a = pd.read_csv(Nifty_data)\n",
    "\n",
    "print(a.columns)\n"
   ]
  },
  {
   "cell_type": "code",
   "execution_count": 56,
   "metadata": {},
   "outputs": [
    {
     "name": "stdout",
     "output_type": "stream",
     "text": [
      "Encoded DataFrame:\n",
      "         Date      Open      High       Low     Close   Shares Traded   \\\n",
      "0  26-DEC-2023  21365.20  21477.15  21329.45  21441.35     219467748.0   \n",
      "1  27-DEC-2023  21497.65  21675.75  21495.80  21654.75     256542963.0   \n",
      "2  28-DEC-2023  21715.00  21801.45  21678.00  21778.70     393080755.0   \n",
      "3  29-DEC-2023  21737.65  21770.30  21676.90  21731.40     270922276.0   \n",
      "4  01-JAN-2024  21727.75  21834.35  21680.85  21741.90     153995217.0   \n",
      "\n",
      "   Turnover (₹ Cr)  \n",
      "0         20081.33  \n",
      "1         23059.25  \n",
      "2         35031.00  \n",
      "3         23697.88  \n",
      "4         14184.09  \n"
     ]
    }
   ],
   "source": [
    "import pandas as pd\n",
    "from sklearn.preprocessing import LabelEncoder\n",
    "\n",
    "# Example DataFrame with stock market data\n",
    "Nifty_data = \"E:/4TH_sem/AI_ML/STOCKS.csv\"\n",
    "a = pd.read_csv(Nifty_data)\n",
    "\n",
    "# Assuming 'Sector' is a categorical column in your DataFrame\n",
    "categorical_columns = ['Sector']  # Replace with actual categorical columns in your dataset\n",
    "\n",
    "# Initialize LabelEncoder\n",
    "label_encoder = LabelEncoder()\n",
    "\n",
    "# Encode categorical columns\n",
    "for col in categorical_columns:\n",
    "    if col in a.columns:\n",
    "        a[col + '_encoded'] = label_encoder.fit_transform(a[col])\n",
    "\n",
    "# Print the updated DataFrame\n",
    "print(\"Encoded DataFrame:\")\n",
    "print(a.head())\n"
   ]
  },
  {
   "cell_type": "code",
   "execution_count": 59,
   "metadata": {},
   "outputs": [
    {
     "name": "stdout",
     "output_type": "stream",
     "text": [
      "Training set size: 93 samples\n",
      "Test set size: 31 samples\n"
     ]
    }
   ],
   "source": [
    "import pandas as pd\n",
    "from sklearn.model_selection import train_test_split\n",
    "\n",
    "# Example DataFrame with stock market data\n",
    "Nifty_data = \"E:/4TH_sem/AI_ML/STOCKS.csv\"\n",
    "a = pd.read_csv(Nifty_data)\n",
    "\n",
    "# Assuming 'Close' is the target variable (dependent variable)\n",
    "X = a[['Open ', 'High ', 'Low ', 'Shares Traded ', 'Turnover (₹ Cr)']]  # Independent variables\n",
    "y = a['Close ']  # Dependent variable\n",
    "\n",
    "# Split dataset into training (75%) and test (25%) sets with random_state\n",
    "X_train, X_test, y_train, y_test = train_test_split(X, y, test_size=0.25, random_state=42)\n",
    "\n",
    "# Print sizes of training and test sets\n",
    "print(f\"Training set size: {X_train.shape[0]} samples\")\n",
    "print(f\"Test set size: {X_test.shape[0]} samples\")\n"
   ]
  },
  {
   "cell_type": "code",
   "execution_count": null,
   "metadata": {},
   "outputs": [],
   "source": [
    "#Role of random_state:\n",
    "#Deterministic Split: The random_state parameter controls the randomness of the data split. \n",
    "#When you set random_state to a specific number (e.g., 42),\n",
    "# the data split will always be the same whenever you run the script with the same dataset. \n",
    "# This is crucial for reproducibility and debugging purposes."
   ]
  },
  {
   "cell_type": "code",
   "execution_count": null,
   "metadata": {},
   "outputs": [],
   "source": [
    "#Without random_state: \n",
    "# If you omit random_state, the split will vary each time you run the script,\n",
    "# which can be useful for exploring how different splits affect model performance."
   ]
  },
  {
   "cell_type": "markdown",
   "metadata": {},
   "source": [
    "Perform feature scaling by means of Standardization or Z score technique and interpret\n",
    "how each standardized value is computed."
   ]
  },
  {
   "cell_type": "code",
   "execution_count": 62,
   "metadata": {},
   "outputs": [
    {
     "name": "stdout",
     "output_type": "stream",
     "text": [
      "Columns in the DataFrame:\n",
      "Index(['Date ', 'Open ', 'High ', 'Low ', 'Close ', 'Shares Traded ',\n",
      "       'Turnover (₹ Cr)'],\n",
      "      dtype='object')\n",
      "\n",
      "Standardized DataFrame:\n",
      "         Date      Open      High       Low     Close   Shares Traded   \\\n",
      "0  26-DEC-2023 -1.633026 -1.644101 -1.458902 -1.487089       -0.971819   \n",
      "1  27-DEC-2023 -1.394660 -1.279609 -1.159968 -1.100423       -0.656363   \n",
      "2  28-DEC-2023 -1.003501 -1.048910 -0.832551 -0.875834        0.505377   \n",
      "3  29-DEC-2023 -0.962739 -1.106080 -0.834528 -0.961539       -0.534016   \n",
      "4  01-JAN-2024 -0.980555 -0.988529 -0.827430 -0.942513       -1.528896   \n",
      "\n",
      "   Turnover (₹ Cr)  \n",
      "0        -1.054354  \n",
      "1        -0.803015  \n",
      "2         0.207412  \n",
      "3        -0.749114  \n",
      "4        -1.552087  \n",
      "\n",
      "Explanation:\n",
      "Column: Open \n",
      "Mean (μ): 3.986058794863869e-15\n",
      "Standard Deviation (σ): 1.0040568117894588\n",
      "First few standardized values (z):\n",
      "Original: -1.6330262057462506, Standardized: -1.6264280930835262\n",
      "Original: -1.3946597254090285, Standardized: -1.3890247135751512\n",
      "Original: -1.0035011410277936, Standardized: -0.9994465743819109\n",
      "Original: -0.9627385832351294, Standardized: -0.9588487144659804\n",
      "Original: -0.9805553303498054, Standardized: -0.9765934744292363\n",
      "\n",
      "\n",
      "Column: High \n",
      "Mean (μ): 2.3207242579261336e-15\n",
      "Standard Deviation (σ): 1.004056811789459\n",
      "First few standardized values (z):\n",
      "Original: -1.6441012244035305, Standardized: -1.637458364007678\n",
      "Original: -1.2796087815472539, Standardized: -1.2744386239128247\n",
      "Original: -1.048910392488671, Standardized: -1.0446723533694022\n",
      "Original: -1.1060802796738352, Standardized: -1.10161125016676\n",
      "Original: -0.9885287138886165, Standardized: -0.9845346421452332\n",
      "\n",
      "\n",
      "Column: Low \n",
      "Mean (μ): -7.377611066863944e-15\n",
      "Standard Deviation (σ): 1.0040568117894588\n",
      "First few standardized values (z):\n",
      "Original: -1.4589015366252824, Standardized: -1.4530069608563074\n",
      "Original: -1.1599677983019567, Standardized: -1.1552810405564815\n",
      "Original: -0.8325513443042973, Standardized: -0.8291874867324421\n",
      "Original: -0.8345280627422608, Standardized: -0.8311562183965802\n",
      "Original: -0.827429846533206, Standardized: -0.8240866819662619\n",
      "\n",
      "\n",
      "Column: Close \n",
      "Mean (μ): -1.4683594841816587e-15\n",
      "Standard Deviation (σ): 1.004056811789459\n",
      "First few standardized values (z):\n",
      "Original: -1.4870889511437109, Standardized: -1.481080486365484\n",
      "Original: -1.100423087047189, Standardized: -1.0959769149775316\n",
      "Original: -0.8758343623294577, Standardized: -0.872295623161521\n",
      "Original: -0.9615386517941488, Standardized: -0.9576536312526632\n",
      "Original: -0.9425133866909929, Standardized: -0.9387052362218598\n",
      "\n",
      "\n",
      "Column: Shares Traded \n",
      "Mean (μ): 1.6066642144981941e-16\n",
      "Standard Deviation (σ): 1.0040899966195638\n",
      "First few standardized values (z):\n",
      "Original: -0.9718194737300155, Standardized: -0.9678609258152235\n",
      "Original: -0.6563627829552504, Standardized: -0.6536891963519258\n",
      "Original: 0.5053772104611922, Standardized: 0.5033186389294074\n",
      "Original: -0.5340155357553472, Standardized: -0.5318403106825081\n",
      "Original: -1.5288964310964994, Standardized: -1.5226687211741818\n",
      "\n",
      "\n",
      "Column: Turnover (₹ Cr)\n",
      "Mean (μ): -5.1675014764057084e-17\n",
      "Standard Deviation (σ): 1.0040899966195636\n",
      "First few standardized values (z):\n",
      "Original: -1.054354092444897, Standardized: -1.0500593532398053\n",
      "Original: -0.8030149341706408, Standardized: -0.7997439839796479\n",
      "Original: 0.20741166159748908, Standardized: 0.20656680406714048\n",
      "Original: -0.7491139809386236, Standardized: -0.7460625874778564\n",
      "Original: -1.552086515660187, Standardized: -1.5457643447156582\n",
      "\n",
      "\n"
     ]
    }
   ],
   "source": [
    "import pandas as pd\n",
    "from sklearn.preprocessing import StandardScaler\n",
    "\n",
    "# Example DataFrame with stock market data\n",
    "Nifty_data = \"E:/4TH_sem/AI_ML/STOCKS.csv\"\n",
    "a = pd.read_csv(Nifty_data)\n",
    "\n",
    "# Print columns to verify exact names and check for any issues\n",
    "print(\"Columns in the DataFrame:\")\n",
    "print(a.columns)\n",
    "\n",
    "# Assuming these are the correct column names after verifying\n",
    "columns_to_scale = ['Open ', 'High ', 'Low ', 'Close ', 'Shares Traded ', 'Turnover (₹ Cr)']\n",
    "\n",
    "# Initialize StandardScaler\n",
    "scaler = StandardScaler()\n",
    "\n",
    "# Fit and transform the specified columns\n",
    "a[columns_to_scale] = scaler.fit_transform(a[columns_to_scale])\n",
    "\n",
    "# Print the standardized DataFrame\n",
    "print(\"\\nStandardized DataFrame:\")\n",
    "print(a.head())\n",
    "\n",
    "# Explanation of Standardization:\n",
    "print(\"\\nExplanation:\")\n",
    "for column in columns_to_scale:\n",
    "    mean_value = a[column].mean()\n",
    "    std_value = a[column].std()\n",
    "    print(f\"Column: {column}\")\n",
    "    print(f\"Mean (μ): {mean_value}\")\n",
    "    print(f\"Standard Deviation (σ): {std_value}\")\n",
    "    print(f\"First few standardized values (z):\")\n",
    "    for i in range(5):\n",
    "        original_value = a.loc[i, column]\n",
    "        standardized_value = (original_value - mean_value) / std_value\n",
    "        print(f\"Original: {original_value}, Standardized: {standardized_value}\")\n",
    "    print(\"\\n\")\n",
    "\n"
   ]
  },
  {
   "cell_type": "markdown",
   "metadata": {},
   "source": [
    "Perform Normalization using min max scalar and by using normalize method and\n",
    "interpret the difference between Standardization and Normalization."
   ]
  },
  {
   "cell_type": "code",
   "execution_count": 63,
   "metadata": {},
   "outputs": [
    {
     "name": "stdout",
     "output_type": "stream",
     "text": [
      "\n",
      "Normalized DataFrame:\n",
      "         Date      Open      High       Low     Close   Shares Traded   \\\n",
      "0  26-DEC-2023  0.072681  0.007908  0.079283  0.081591        0.203034   \n",
      "1  27-DEC-2023  0.126176  0.094438  0.147885  0.167553        0.240596   \n",
      "2  28-DEC-2023  0.213963  0.149206  0.223024  0.217482        0.378927   \n",
      "3  29-DEC-2023  0.223111  0.135634  0.222570  0.198429        0.255165   \n",
      "4  01-JAN-2024  0.219112  0.163541  0.224199  0.202659        0.136702   \n",
      "\n",
      "   Turnover (₹ Cr)  \n",
      "0         0.200714  \n",
      "1         0.233008  \n",
      "2         0.362834  \n",
      "3         0.239933  \n",
      "4         0.136762  \n"
     ]
    }
   ],
   "source": [
    "import pandas as pd\n",
    "from sklearn.preprocessing import MinMaxScaler\n",
    "\n",
    "# Example DataFrame with stock market data\n",
    "Nifty_data = \"E:/4TH_sem/AI_ML/STOCKS.csv\"\n",
    "a = pd.read_csv(Nifty_data)\n",
    "\n",
    "# Assuming these are the correct column names after verifying\n",
    "columns_to_normalize = ['Open ', 'High ', 'Low ', 'Close ', 'Shares Traded ', 'Turnover (₹ Cr)']\n",
    "\n",
    "# Initialize MinMaxScaler\n",
    "scaler = MinMaxScaler()\n",
    "\n",
    "# Fit and transform the specified columns\n",
    "a[columns_to_normalize] = scaler.fit_transform(a[columns_to_normalize])\n",
    "\n",
    "# Print the normalized DataFrame\n",
    "print(\"\\nNormalized DataFrame:\")\n",
    "print(a.head())\n"
   ]
  },
  {
   "cell_type": "markdown",
   "metadata": {},
   "source": [
    "Differences and Interpretation:\n",
    "\n",
    "Range: Standardization does not bound values to a specific range, resulting in values that can be positive or negative and can vary widely based on the data's distribution. Min-Max normalization scales values to a fixed range ([0, 1]), making it useful for algorithms that require values to be on the same scale.\n",
    "\n",
    "Effect on Distribution: Standardization maintains the shape of the original distribution (mean of 0 and variance of 1), whereas Min-Max normalization transforms data to a uniform range, potentially altering the distribution's shape.\n",
    "\n",
    "Use Cases:\n",
    "\n",
    "Use Standardization when dealing with algorithms like PCA (Principal Component Analysis) or clustering algorithms that require standardized data.\n",
    "Use Min-Max normalization when working with neural networks, image processing, or algorithms sensitive to the scale of data."
   ]
  },
  {
   "cell_type": "markdown",
   "metadata": {},
   "source": [
    "Interpretation:\n",
    "Normalization Process: Min-Max normalization scales each feature to a range of [0, 1] by subtracting the minimum value and dividing by the range (difference between maximum and minimum values).\n",
    "\n",
    "Application: This ensures that all features have the same scale, making it suitable for algorithms that require all inputs to be on the same scale, such as neural networks."
   ]
  },
  {
   "cell_type": "markdown",
   "metadata": {},
   "source": [
    "Standardization (Z-score normalization):\n",
    "Method: Standardization transforms data such that it has a mean of 0 and a standard deviation of 1."
   ]
  },
  {
   "cell_type": "markdown",
   "metadata": {},
   "source": [
    "Min-Max Normalization:\n",
    "Method: Min-Max normalization scales data to a fixed range, typically [0, 1]."
   ]
  },
  {
   "cell_type": "code",
   "execution_count": null,
   "metadata": {},
   "outputs": [],
   "source": []
  }
 ],
 "metadata": {
  "kernelspec": {
   "display_name": "Python 3",
   "language": "python",
   "name": "python3"
  },
  "language_info": {
   "codemirror_mode": {
    "name": "ipython",
    "version": 3
   },
   "file_extension": ".py",
   "mimetype": "text/x-python",
   "name": "python",
   "nbconvert_exporter": "python",
   "pygments_lexer": "ipython3",
   "version": "3.12.0"
  }
 },
 "nbformat": 4,
 "nbformat_minor": 2
}
